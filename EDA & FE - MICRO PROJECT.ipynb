{
 "cells": [
  {
   "cell_type": "markdown",
   "id": "755ed6ec",
   "metadata": {},
   "source": [
    "### Importing Necessary Packages"
   ]
  },
  {
   "cell_type": "code",
   "execution_count": 1,
   "id": "347d86d3",
   "metadata": {},
   "outputs": [],
   "source": [
    "import pandas as pd\n",
    "import numpy as np\n",
    "import math \n",
    "import seaborn as sns\n",
    "import matplotlib.pyplot as plt\n",
    "import warnings\n",
    "warnings.filterwarnings('ignore')\n",
    "import csv\n",
    "import openpyxl"
   ]
  },
  {
   "cell_type": "markdown",
   "id": "47ca969d",
   "metadata": {},
   "source": [
    "### Data Preprocessing"
   ]
  },
  {
   "cell_type": "markdown",
   "id": "546c961f",
   "metadata": {},
   "source": [
    "#### Reading the files and Merging them"
   ]
  },
  {
   "cell_type": "code",
   "execution_count": 2,
   "id": "32b9f9c0",
   "metadata": {},
   "outputs": [],
   "source": [
    "wb = openpyxl.Workbook()\n",
    "ws = wb.active\n",
    "\n",
    "with open('age_band.csv') as f:\n",
    "    reader = csv.reader(f, delimiter=':')\n",
    "    for row in reader:\n",
    "        ws.append(row)\n",
    "\n",
    "wb.save('age_band.xlsx')"
   ]
  },
  {
   "cell_type": "code",
   "execution_count": 3,
   "id": "57a39d40",
   "metadata": {},
   "outputs": [],
   "source": [
    "xls = pd.ExcelFile('car_loan.xlsx')\n",
    "xls1 = pd.ExcelFile('age_band.xlsx')\n",
    "sheet1 = xls.parse(0)\n",
    "sheet2 = xls.parse(1)\n",
    "sheet3 = xls1.parse(0)"
   ]
  },
  {
   "cell_type": "code",
   "execution_count": 4,
   "id": "f2181a46",
   "metadata": {},
   "outputs": [],
   "source": [
    "df=pd.concat([sheet1, sheet2, sheet3], axis=1)"
   ]
  },
  {
   "cell_type": "code",
   "execution_count": 5,
   "id": "9e822745",
   "metadata": {},
   "outputs": [],
   "source": [
    "df['Customer_id'] = df['cust.ID\\tage-band \\tDebt.To.Income.Ratio,'].str.split().str[0]\n",
    "df['Age_band'] = df['cust.ID\\tage-band \\tDebt.To.Income.Ratio,'].str.split().str[1]\n",
    "df['Debt_to_Income_ratio'] = df['cust.ID\\tage-band \\tDebt.To.Income.Ratio,'].str.split().str[2]\n",
    "df.drop(columns=['cust.ID\\tage-band \\tDebt.To.Income.Ratio,'], axis=1, inplace=True)"
   ]
  },
  {
   "cell_type": "markdown",
   "id": "52f3f871",
   "metadata": {},
   "source": [
    "#### Removing the duplicate columns"
   ]
  },
  {
   "cell_type": "code",
   "execution_count": 6,
   "id": "ca302e82",
   "metadata": {},
   "outputs": [],
   "source": [
    "df = df.loc[:, ~df.columns.duplicated()]"
   ]
  },
  {
   "cell_type": "code",
   "execution_count": 7,
   "id": "c26a2fff",
   "metadata": {},
   "outputs": [],
   "source": [
    "df.drop(columns='Customer_id', axis=1, inplace=True)"
   ]
  },
  {
   "cell_type": "code",
   "execution_count": 8,
   "id": "bbd18e88",
   "metadata": {},
   "outputs": [
    {
     "data": {
      "text/html": [
       "<div>\n",
       "<style scoped>\n",
       "    .dataframe tbody tr th:only-of-type {\n",
       "        vertical-align: middle;\n",
       "    }\n",
       "\n",
       "    .dataframe tbody tr th {\n",
       "        vertical-align: top;\n",
       "    }\n",
       "\n",
       "    .dataframe thead th {\n",
       "        text-align: right;\n",
       "    }\n",
       "</style>\n",
       "<table border=\"1\" class=\"dataframe\">\n",
       "  <thead>\n",
       "    <tr style=\"text-align: right;\">\n",
       "      <th></th>\n",
       "      <th>cust.ID</th>\n",
       "      <th>Amount.Requested for loan</th>\n",
       "      <th>Amount.Funded.By.Investors to bank</th>\n",
       "      <th>Interest.Rate</th>\n",
       "      <th>Loan duration</th>\n",
       "      <th>Family_incomeIncome</th>\n",
       "      <th>credit_score</th>\n",
       "      <th>Employment.Length</th>\n",
       "      <th>owning a two wheeler</th>\n",
       "      <th>Age_band</th>\n",
       "      <th>Debt_to_Income_ratio</th>\n",
       "    </tr>\n",
       "  </thead>\n",
       "  <tbody>\n",
       "    <tr>\n",
       "      <th>0</th>\n",
       "      <td>84563.0</td>\n",
       "      <td>8000</td>\n",
       "      <td>8000</td>\n",
       "      <td>7.62#</td>\n",
       "      <td>36 months</td>\n",
       "      <td>3500</td>\n",
       "      <td>765-769</td>\n",
       "      <td>NaN</td>\n",
       "      <td>yes</td>\n",
       "      <td>25-39</td>\n",
       "      <td>0!,</td>\n",
       "    </tr>\n",
       "    <tr>\n",
       "      <th>1</th>\n",
       "      <td>78765.0</td>\n",
       "      <td>9000</td>\n",
       "      <td>9000</td>\n",
       "      <td>10.16#</td>\n",
       "      <td>36 months</td>\n",
       "      <td>5166.67</td>\n",
       "      <td>710-714</td>\n",
       "      <td>10 + years</td>\n",
       "      <td>no</td>\n",
       "      <td>25-40</td>\n",
       "      <td>13.76!,</td>\n",
       "    </tr>\n",
       "    <tr>\n",
       "      <th>2</th>\n",
       "      <td>24590.0</td>\n",
       "      <td>13000</td>\n",
       "      <td>12975</td>\n",
       "      <td>9.99#</td>\n",
       "      <td>60 months</td>\n",
       "      <td>10500</td>\n",
       "      <td>800-804</td>\n",
       "      <td>10+ years</td>\n",
       "      <td>yes</td>\n",
       "      <td>25-41</td>\n",
       "      <td>8.77!,</td>\n",
       "    </tr>\n",
       "    <tr>\n",
       "      <th>3</th>\n",
       "      <td>9061.0</td>\n",
       "      <td>10000</td>\n",
       "      <td>10000</td>\n",
       "      <td>14.22#</td>\n",
       "      <td>36 months</td>\n",
       "      <td>2541.67</td>\n",
       "      <td>680-684</td>\n",
       "      <td>8 years</td>\n",
       "      <td>no</td>\n",
       "      <td>25-42</td>\n",
       "      <td>12.24!,</td>\n",
       "    </tr>\n",
       "    <tr>\n",
       "      <th>4</th>\n",
       "      <td>47011.0</td>\n",
       "      <td>3600</td>\n",
       "      <td>3600</td>\n",
       "      <td>13.67#</td>\n",
       "      <td>36 months</td>\n",
       "      <td>5113</td>\n",
       "      <td>690-694</td>\n",
       "      <td>NaN</td>\n",
       "      <td>yes</td>\n",
       "      <td>25-43</td>\n",
       "      <td>16.41!,</td>\n",
       "    </tr>\n",
       "    <tr>\n",
       "      <th>...</th>\n",
       "      <td>...</td>\n",
       "      <td>...</td>\n",
       "      <td>...</td>\n",
       "      <td>...</td>\n",
       "      <td>...</td>\n",
       "      <td>...</td>\n",
       "      <td>...</td>\n",
       "      <td>...</td>\n",
       "      <td>...</td>\n",
       "      <td>...</td>\n",
       "      <td>...</td>\n",
       "    </tr>\n",
       "    <tr>\n",
       "      <th>2181</th>\n",
       "      <td>101795.0</td>\n",
       "      <td>10000</td>\n",
       "      <td>550</td>\n",
       "      <td>10.59#</td>\n",
       "      <td>36 months</td>\n",
       "      <td>2083.33</td>\n",
       "      <td>685-689</td>\n",
       "      <td>&lt; 1 year</td>\n",
       "      <td>no</td>\n",
       "      <td>45-55</td>\n",
       "      <td>10.22!,</td>\n",
       "    </tr>\n",
       "    <tr>\n",
       "      <th>2182</th>\n",
       "      <td>84805.0</td>\n",
       "      <td>13225</td>\n",
       "      <td>13225</td>\n",
       "      <td>15.31#</td>\n",
       "      <td>36 months</td>\n",
       "      <td>5833.33</td>\n",
       "      <td>680-684</td>\n",
       "      <td>10+ years</td>\n",
       "      <td>yes</td>\n",
       "      <td>45-55</td>\n",
       "      <td>27.07!,</td>\n",
       "    </tr>\n",
       "    <tr>\n",
       "      <th>2183</th>\n",
       "      <td>101548.0</td>\n",
       "      <td>10000</td>\n",
       "      <td>525</td>\n",
       "      <td>14.7#</td>\n",
       "      <td>36 months</td>\n",
       "      <td>5416.67</td>\n",
       "      <td>645-649</td>\n",
       "      <td>&lt; 1 year</td>\n",
       "      <td>no</td>\n",
       "      <td>45-55</td>\n",
       "      <td>6.37!,</td>\n",
       "    </tr>\n",
       "    <tr>\n",
       "      <th>2184</th>\n",
       "      <td>3209.0</td>\n",
       "      <td>12000</td>\n",
       "      <td>11725</td>\n",
       "      <td>9.63#</td>\n",
       "      <td>36 months</td>\n",
       "      <td>3000</td>\n",
       "      <td>750-754</td>\n",
       "      <td>&lt; 1 year</td>\n",
       "      <td>yes</td>\n",
       "      <td>45-55</td>\n",
       "      <td>15!,</td>\n",
       "    </tr>\n",
       "    <tr>\n",
       "      <th>2185</th>\n",
       "      <td>42828.0</td>\n",
       "      <td>16000</td>\n",
       "      <td>16000</td>\n",
       "      <td>8.9#</td>\n",
       "      <td>36 months</td>\n",
       "      <td>5750</td>\n",
       "      <td>725-729</td>\n",
       "      <td>6 years</td>\n",
       "      <td>no</td>\n",
       "      <td>45-55</td>\n",
       "      <td>14.85!,</td>\n",
       "    </tr>\n",
       "  </tbody>\n",
       "</table>\n",
       "<p>2186 rows × 11 columns</p>\n",
       "</div>"
      ],
      "text/plain": [
       "       cust.ID Amount.Requested for loan Amount.Funded.By.Investors to bank  \\\n",
       "0      84563.0                      8000                               8000   \n",
       "1      78765.0                      9000                               9000   \n",
       "2      24590.0                     13000                              12975   \n",
       "3       9061.0                     10000                              10000   \n",
       "4      47011.0                      3600                               3600   \n",
       "...        ...                       ...                                ...   \n",
       "2181  101795.0                     10000                                550   \n",
       "2182   84805.0                     13225                              13225   \n",
       "2183  101548.0                     10000                                525   \n",
       "2184    3209.0                     12000                              11725   \n",
       "2185   42828.0                     16000                              16000   \n",
       "\n",
       "     Interest.Rate Loan duration Family_incomeIncome credit_score  \\\n",
       "0            7.62#     36 months                3500      765-769   \n",
       "1           10.16#     36 months             5166.67      710-714   \n",
       "2            9.99#     60 months               10500      800-804   \n",
       "3           14.22#     36 months             2541.67      680-684   \n",
       "4           13.67#     36 months                5113      690-694   \n",
       "...            ...           ...                 ...          ...   \n",
       "2181        10.59#     36 months             2083.33      685-689   \n",
       "2182        15.31#     36 months             5833.33      680-684   \n",
       "2183         14.7#     36 months             5416.67      645-649   \n",
       "2184         9.63#     36 months                3000      750-754   \n",
       "2185          8.9#     36 months                5750      725-729   \n",
       "\n",
       "     Employment.Length owning a two wheeler Age_band Debt_to_Income_ratio  \n",
       "0                  NaN                 yes     25-39                  0!,  \n",
       "1           10 + years                   no    25-40              13.76!,  \n",
       "2            10+ years                 yes     25-41               8.77!,  \n",
       "3              8 years                   no    25-42              12.24!,  \n",
       "4                  NaN                 yes     25-43              16.41!,  \n",
       "...                ...                  ...      ...                  ...  \n",
       "2181          < 1 year                   no    45-55              10.22!,  \n",
       "2182         10+ years                 yes     45-55              27.07!,  \n",
       "2183          < 1 year                   no    45-55               6.37!,  \n",
       "2184          < 1 year                 yes     45-55                 15!,  \n",
       "2185           6 years                   no    45-55              14.85!,  \n",
       "\n",
       "[2186 rows x 11 columns]"
      ]
     },
     "execution_count": 8,
     "metadata": {},
     "output_type": "execute_result"
    }
   ],
   "source": [
    "df"
   ]
  },
  {
   "cell_type": "code",
   "execution_count": 10,
   "id": "fa8c02be",
   "metadata": {},
   "outputs": [
    {
     "ename": "ValueError",
     "evalue": "could not convert string to float: '.'",
     "output_type": "error",
     "traceback": [
      "\u001b[1;31m---------------------------------------------------------------------------\u001b[0m",
      "\u001b[1;31mValueError\u001b[0m                                Traceback (most recent call last)",
      "Cell \u001b[1;32mIn[10], line 1\u001b[0m\n\u001b[1;32m----> 1\u001b[0m \u001b[43mdf\u001b[49m\u001b[43m[\u001b[49m\u001b[38;5;124;43m'\u001b[39;49m\u001b[38;5;124;43mAmount.Requested for loan\u001b[39;49m\u001b[38;5;124;43m'\u001b[39;49m\u001b[43m]\u001b[49m\u001b[38;5;241;43m.\u001b[39;49m\u001b[43mastype\u001b[49m\u001b[43m(\u001b[49m\u001b[38;5;28;43mfloat\u001b[39;49m\u001b[43m)\u001b[49m\n",
      "File \u001b[1;32m~\\anaconda3\\lib\\site-packages\\pandas\\core\\generic.py:6240\u001b[0m, in \u001b[0;36mNDFrame.astype\u001b[1;34m(self, dtype, copy, errors)\u001b[0m\n\u001b[0;32m   6233\u001b[0m     results \u001b[38;5;241m=\u001b[39m [\n\u001b[0;32m   6234\u001b[0m         \u001b[38;5;28mself\u001b[39m\u001b[38;5;241m.\u001b[39miloc[:, i]\u001b[38;5;241m.\u001b[39mastype(dtype, copy\u001b[38;5;241m=\u001b[39mcopy)\n\u001b[0;32m   6235\u001b[0m         \u001b[38;5;28;01mfor\u001b[39;00m i \u001b[38;5;129;01min\u001b[39;00m \u001b[38;5;28mrange\u001b[39m(\u001b[38;5;28mlen\u001b[39m(\u001b[38;5;28mself\u001b[39m\u001b[38;5;241m.\u001b[39mcolumns))\n\u001b[0;32m   6236\u001b[0m     ]\n\u001b[0;32m   6238\u001b[0m \u001b[38;5;28;01melse\u001b[39;00m:\n\u001b[0;32m   6239\u001b[0m     \u001b[38;5;66;03m# else, only a single dtype is given\u001b[39;00m\n\u001b[1;32m-> 6240\u001b[0m     new_data \u001b[38;5;241m=\u001b[39m \u001b[38;5;28;43mself\u001b[39;49m\u001b[38;5;241;43m.\u001b[39;49m\u001b[43m_mgr\u001b[49m\u001b[38;5;241;43m.\u001b[39;49m\u001b[43mastype\u001b[49m\u001b[43m(\u001b[49m\u001b[43mdtype\u001b[49m\u001b[38;5;241;43m=\u001b[39;49m\u001b[43mdtype\u001b[49m\u001b[43m,\u001b[49m\u001b[43m \u001b[49m\u001b[43mcopy\u001b[49m\u001b[38;5;241;43m=\u001b[39;49m\u001b[43mcopy\u001b[49m\u001b[43m,\u001b[49m\u001b[43m \u001b[49m\u001b[43merrors\u001b[49m\u001b[38;5;241;43m=\u001b[39;49m\u001b[43merrors\u001b[49m\u001b[43m)\u001b[49m\n\u001b[0;32m   6241\u001b[0m     \u001b[38;5;28;01mreturn\u001b[39;00m \u001b[38;5;28mself\u001b[39m\u001b[38;5;241m.\u001b[39m_constructor(new_data)\u001b[38;5;241m.\u001b[39m__finalize__(\u001b[38;5;28mself\u001b[39m, method\u001b[38;5;241m=\u001b[39m\u001b[38;5;124m\"\u001b[39m\u001b[38;5;124mastype\u001b[39m\u001b[38;5;124m\"\u001b[39m)\n\u001b[0;32m   6243\u001b[0m \u001b[38;5;66;03m# GH 33113: handle empty frame or series\u001b[39;00m\n",
      "File \u001b[1;32m~\\anaconda3\\lib\\site-packages\\pandas\\core\\internals\\managers.py:448\u001b[0m, in \u001b[0;36mBaseBlockManager.astype\u001b[1;34m(self, dtype, copy, errors)\u001b[0m\n\u001b[0;32m    447\u001b[0m \u001b[38;5;28;01mdef\u001b[39;00m \u001b[38;5;21mastype\u001b[39m(\u001b[38;5;28mself\u001b[39m: T, dtype, copy: \u001b[38;5;28mbool\u001b[39m \u001b[38;5;241m=\u001b[39m \u001b[38;5;28;01mFalse\u001b[39;00m, errors: \u001b[38;5;28mstr\u001b[39m \u001b[38;5;241m=\u001b[39m \u001b[38;5;124m\"\u001b[39m\u001b[38;5;124mraise\u001b[39m\u001b[38;5;124m\"\u001b[39m) \u001b[38;5;241m-\u001b[39m\u001b[38;5;241m>\u001b[39m T:\n\u001b[1;32m--> 448\u001b[0m     \u001b[38;5;28;01mreturn\u001b[39;00m \u001b[38;5;28;43mself\u001b[39;49m\u001b[38;5;241;43m.\u001b[39;49m\u001b[43mapply\u001b[49m\u001b[43m(\u001b[49m\u001b[38;5;124;43m\"\u001b[39;49m\u001b[38;5;124;43mastype\u001b[39;49m\u001b[38;5;124;43m\"\u001b[39;49m\u001b[43m,\u001b[49m\u001b[43m \u001b[49m\u001b[43mdtype\u001b[49m\u001b[38;5;241;43m=\u001b[39;49m\u001b[43mdtype\u001b[49m\u001b[43m,\u001b[49m\u001b[43m \u001b[49m\u001b[43mcopy\u001b[49m\u001b[38;5;241;43m=\u001b[39;49m\u001b[43mcopy\u001b[49m\u001b[43m,\u001b[49m\u001b[43m \u001b[49m\u001b[43merrors\u001b[49m\u001b[38;5;241;43m=\u001b[39;49m\u001b[43merrors\u001b[49m\u001b[43m)\u001b[49m\n",
      "File \u001b[1;32m~\\anaconda3\\lib\\site-packages\\pandas\\core\\internals\\managers.py:352\u001b[0m, in \u001b[0;36mBaseBlockManager.apply\u001b[1;34m(self, f, align_keys, ignore_failures, **kwargs)\u001b[0m\n\u001b[0;32m    350\u001b[0m         applied \u001b[38;5;241m=\u001b[39m b\u001b[38;5;241m.\u001b[39mapply(f, \u001b[38;5;241m*\u001b[39m\u001b[38;5;241m*\u001b[39mkwargs)\n\u001b[0;32m    351\u001b[0m     \u001b[38;5;28;01melse\u001b[39;00m:\n\u001b[1;32m--> 352\u001b[0m         applied \u001b[38;5;241m=\u001b[39m \u001b[38;5;28mgetattr\u001b[39m(b, f)(\u001b[38;5;241m*\u001b[39m\u001b[38;5;241m*\u001b[39mkwargs)\n\u001b[0;32m    353\u001b[0m \u001b[38;5;28;01mexcept\u001b[39;00m (\u001b[38;5;167;01mTypeError\u001b[39;00m, \u001b[38;5;167;01mNotImplementedError\u001b[39;00m):\n\u001b[0;32m    354\u001b[0m     \u001b[38;5;28;01mif\u001b[39;00m \u001b[38;5;129;01mnot\u001b[39;00m ignore_failures:\n",
      "File \u001b[1;32m~\\anaconda3\\lib\\site-packages\\pandas\\core\\internals\\blocks.py:526\u001b[0m, in \u001b[0;36mBlock.astype\u001b[1;34m(self, dtype, copy, errors)\u001b[0m\n\u001b[0;32m    508\u001b[0m \u001b[38;5;124;03m\"\"\"\u001b[39;00m\n\u001b[0;32m    509\u001b[0m \u001b[38;5;124;03mCoerce to the new dtype.\u001b[39;00m\n\u001b[0;32m    510\u001b[0m \n\u001b[1;32m   (...)\u001b[0m\n\u001b[0;32m    522\u001b[0m \u001b[38;5;124;03mBlock\u001b[39;00m\n\u001b[0;32m    523\u001b[0m \u001b[38;5;124;03m\"\"\"\u001b[39;00m\n\u001b[0;32m    524\u001b[0m values \u001b[38;5;241m=\u001b[39m \u001b[38;5;28mself\u001b[39m\u001b[38;5;241m.\u001b[39mvalues\n\u001b[1;32m--> 526\u001b[0m new_values \u001b[38;5;241m=\u001b[39m \u001b[43mastype_array_safe\u001b[49m\u001b[43m(\u001b[49m\u001b[43mvalues\u001b[49m\u001b[43m,\u001b[49m\u001b[43m \u001b[49m\u001b[43mdtype\u001b[49m\u001b[43m,\u001b[49m\u001b[43m \u001b[49m\u001b[43mcopy\u001b[49m\u001b[38;5;241;43m=\u001b[39;49m\u001b[43mcopy\u001b[49m\u001b[43m,\u001b[49m\u001b[43m \u001b[49m\u001b[43merrors\u001b[49m\u001b[38;5;241;43m=\u001b[39;49m\u001b[43merrors\u001b[49m\u001b[43m)\u001b[49m\n\u001b[0;32m    528\u001b[0m new_values \u001b[38;5;241m=\u001b[39m maybe_coerce_values(new_values)\n\u001b[0;32m    529\u001b[0m newb \u001b[38;5;241m=\u001b[39m \u001b[38;5;28mself\u001b[39m\u001b[38;5;241m.\u001b[39mmake_block(new_values)\n",
      "File \u001b[1;32m~\\anaconda3\\lib\\site-packages\\pandas\\core\\dtypes\\astype.py:299\u001b[0m, in \u001b[0;36mastype_array_safe\u001b[1;34m(values, dtype, copy, errors)\u001b[0m\n\u001b[0;32m    296\u001b[0m     \u001b[38;5;28;01mreturn\u001b[39;00m values\u001b[38;5;241m.\u001b[39mcopy()\n\u001b[0;32m    298\u001b[0m \u001b[38;5;28;01mtry\u001b[39;00m:\n\u001b[1;32m--> 299\u001b[0m     new_values \u001b[38;5;241m=\u001b[39m \u001b[43mastype_array\u001b[49m\u001b[43m(\u001b[49m\u001b[43mvalues\u001b[49m\u001b[43m,\u001b[49m\u001b[43m \u001b[49m\u001b[43mdtype\u001b[49m\u001b[43m,\u001b[49m\u001b[43m \u001b[49m\u001b[43mcopy\u001b[49m\u001b[38;5;241;43m=\u001b[39;49m\u001b[43mcopy\u001b[49m\u001b[43m)\u001b[49m\n\u001b[0;32m    300\u001b[0m \u001b[38;5;28;01mexcept\u001b[39;00m (\u001b[38;5;167;01mValueError\u001b[39;00m, \u001b[38;5;167;01mTypeError\u001b[39;00m):\n\u001b[0;32m    301\u001b[0m     \u001b[38;5;66;03m# e.g. astype_nansafe can fail on object-dtype of strings\u001b[39;00m\n\u001b[0;32m    302\u001b[0m     \u001b[38;5;66;03m#  trying to convert to float\u001b[39;00m\n\u001b[0;32m    303\u001b[0m     \u001b[38;5;28;01mif\u001b[39;00m errors \u001b[38;5;241m==\u001b[39m \u001b[38;5;124m\"\u001b[39m\u001b[38;5;124mignore\u001b[39m\u001b[38;5;124m\"\u001b[39m:\n",
      "File \u001b[1;32m~\\anaconda3\\lib\\site-packages\\pandas\\core\\dtypes\\astype.py:230\u001b[0m, in \u001b[0;36mastype_array\u001b[1;34m(values, dtype, copy)\u001b[0m\n\u001b[0;32m    227\u001b[0m     values \u001b[38;5;241m=\u001b[39m values\u001b[38;5;241m.\u001b[39mastype(dtype, copy\u001b[38;5;241m=\u001b[39mcopy)\n\u001b[0;32m    229\u001b[0m \u001b[38;5;28;01melse\u001b[39;00m:\n\u001b[1;32m--> 230\u001b[0m     values \u001b[38;5;241m=\u001b[39m \u001b[43mastype_nansafe\u001b[49m\u001b[43m(\u001b[49m\u001b[43mvalues\u001b[49m\u001b[43m,\u001b[49m\u001b[43m \u001b[49m\u001b[43mdtype\u001b[49m\u001b[43m,\u001b[49m\u001b[43m \u001b[49m\u001b[43mcopy\u001b[49m\u001b[38;5;241;43m=\u001b[39;49m\u001b[43mcopy\u001b[49m\u001b[43m)\u001b[49m\n\u001b[0;32m    232\u001b[0m \u001b[38;5;66;03m# in pandas we don't store numpy str dtypes, so convert to object\u001b[39;00m\n\u001b[0;32m    233\u001b[0m \u001b[38;5;28;01mif\u001b[39;00m \u001b[38;5;28misinstance\u001b[39m(dtype, np\u001b[38;5;241m.\u001b[39mdtype) \u001b[38;5;129;01mand\u001b[39;00m \u001b[38;5;28missubclass\u001b[39m(values\u001b[38;5;241m.\u001b[39mdtype\u001b[38;5;241m.\u001b[39mtype, \u001b[38;5;28mstr\u001b[39m):\n",
      "File \u001b[1;32m~\\anaconda3\\lib\\site-packages\\pandas\\core\\dtypes\\astype.py:170\u001b[0m, in \u001b[0;36mastype_nansafe\u001b[1;34m(arr, dtype, copy, skipna)\u001b[0m\n\u001b[0;32m    166\u001b[0m     \u001b[38;5;28;01mraise\u001b[39;00m \u001b[38;5;167;01mValueError\u001b[39;00m(msg)\n\u001b[0;32m    168\u001b[0m \u001b[38;5;28;01mif\u001b[39;00m copy \u001b[38;5;129;01mor\u001b[39;00m is_object_dtype(arr\u001b[38;5;241m.\u001b[39mdtype) \u001b[38;5;129;01mor\u001b[39;00m is_object_dtype(dtype):\n\u001b[0;32m    169\u001b[0m     \u001b[38;5;66;03m# Explicit copy, or required since NumPy can't view from / to object.\u001b[39;00m\n\u001b[1;32m--> 170\u001b[0m     \u001b[38;5;28;01mreturn\u001b[39;00m \u001b[43marr\u001b[49m\u001b[38;5;241;43m.\u001b[39;49m\u001b[43mastype\u001b[49m\u001b[43m(\u001b[49m\u001b[43mdtype\u001b[49m\u001b[43m,\u001b[49m\u001b[43m \u001b[49m\u001b[43mcopy\u001b[49m\u001b[38;5;241;43m=\u001b[39;49m\u001b[38;5;28;43;01mTrue\u001b[39;49;00m\u001b[43m)\u001b[49m\n\u001b[0;32m    172\u001b[0m \u001b[38;5;28;01mreturn\u001b[39;00m arr\u001b[38;5;241m.\u001b[39mastype(dtype, copy\u001b[38;5;241m=\u001b[39mcopy)\n",
      "\u001b[1;31mValueError\u001b[0m: could not convert string to float: '.'"
     ]
    }
   ],
   "source": [
    "df['Amount.Requested for loan'].astype(float)"
   ]
  },
  {
   "cell_type": "code",
   "execution_count": 9,
   "id": "b42d43f1",
   "metadata": {},
   "outputs": [],
   "source": [
    "df['Interest.Rate'] = df['Interest.Rate'].str.replace('#', '')"
   ]
  },
  {
   "cell_type": "code",
   "execution_count": 10,
   "id": "094c36b6",
   "metadata": {},
   "outputs": [
    {
     "data": {
      "text/plain": [
       "0       36\n",
       "1       36\n",
       "2       60\n",
       "3       36\n",
       "4       36\n",
       "        ..\n",
       "2181    36\n",
       "2182    36\n",
       "2183    36\n",
       "2184    36\n",
       "2185    36\n",
       "Name: Loan duration, Length: 2186, dtype: object"
      ]
     },
     "execution_count": 10,
     "metadata": {},
     "output_type": "execute_result"
    }
   ],
   "source": [
    "df['Loan duration'].str.split().str[0]"
   ]
  },
  {
   "cell_type": "code",
   "execution_count": 11,
   "id": "3b1f8d7c",
   "metadata": {},
   "outputs": [
    {
     "ename": "AttributeError",
     "evalue": "'_io.TextIOWrapper' object has no attribute 'value_counts'",
     "output_type": "error",
     "traceback": [
      "\u001b[1;31m---------------------------------------------------------------------------\u001b[0m",
      "\u001b[1;31mAttributeError\u001b[0m                            Traceback (most recent call last)",
      "Cell \u001b[1;32mIn[11], line 1\u001b[0m\n\u001b[1;32m----> 1\u001b[0m \u001b[43mf\u001b[49m\u001b[38;5;241;43m.\u001b[39;49m\u001b[43mvalue_counts\u001b[49m()\n",
      "\u001b[1;31mAttributeError\u001b[0m: '_io.TextIOWrapper' object has no attribute 'value_counts'"
     ]
    }
   ],
   "source": []
  },
  {
   "cell_type": "code",
   "execution_count": null,
   "id": "162b297a",
   "metadata": {},
   "outputs": [],
   "source": []
  },
  {
   "cell_type": "code",
   "execution_count": null,
   "id": "b76d2b20",
   "metadata": {},
   "outputs": [],
   "source": []
  },
  {
   "cell_type": "code",
   "execution_count": null,
   "id": "5fab4aea",
   "metadata": {},
   "outputs": [],
   "source": []
  },
  {
   "cell_type": "code",
   "execution_count": 4,
   "id": "c7fb4e10",
   "metadata": {},
   "outputs": [],
   "source": [
    "sheet3['cust.ID'] = sheet3['cust.ID\\tage-band \\tDebt.To.Income.Ratio,'].str.split('\\t').str[0]\n",
    "sheet3['age_band'] = sheet3['cust.ID\\tage-band \\tDebt.To.Income.Ratio,'].str.split('\\t').str[1]\n",
    "sheet3['Debt_to_Income_ratio'] = sheet3['cust.ID\\tage-band \\tDebt.To.Income.Ratio,'].str.split('\\t').str[2]\n",
    "sheet3.drop(columns='cust.ID\\tage-band \\tDebt.To.Income.Ratio,',inplace=True)"
   ]
  },
  {
   "cell_type": "code",
   "execution_count": 5,
   "id": "760ec8fb",
   "metadata": {},
   "outputs": [],
   "source": [
    "sheet3['cust.ID'] = pd.to_numeric(sheet3['cust.ID'], errors='coerce')"
   ]
  },
  {
   "cell_type": "code",
   "execution_count": 6,
   "id": "a44d8a3d",
   "metadata": {},
   "outputs": [],
   "source": [
    "sheet3['a']= sheet3['age_band'].str.split('-').str[0]\n",
    "sheet3['b'] = sheet3['age_band'].str.split('-').str[1]\n",
    "sheet3.drop(columns='age_band', inplace=True)"
   ]
  },
  {
   "cell_type": "code",
   "execution_count": 7,
   "id": "045286da",
   "metadata": {},
   "outputs": [],
   "source": [
    "sheet3['a'] = pd.to_numeric(sheet3['a'], errors='coerce')\n",
    "sheet3['b'] = pd.to_numeric(sheet3['b'], errors='coerce')\n",
    "sheet3['Age_band'] = (sheet3['a'] + sheet3['b'])/2\n",
    "sheet3.drop(columns=['a', 'b'], inplace=True)"
   ]
  },
  {
   "cell_type": "code",
   "execution_count": 8,
   "id": "fde26e76",
   "metadata": {},
   "outputs": [],
   "source": [
    "sheet3['Debt_to_Income_ratio'] =sheet3['Debt_to_Income_ratio'].str.replace('!', '').str.replace(',', '')"
   ]
  },
  {
   "cell_type": "code",
   "execution_count": 9,
   "id": "2405a6cd",
   "metadata": {},
   "outputs": [],
   "source": [
    "df = sheet3.merge(sheet1, on='cust.ID').merge(sheet2, on='cust.ID')"
   ]
  },
  {
   "cell_type": "markdown",
   "id": "cabbfb32",
   "metadata": {},
   "source": [
    "\n",
    "\n",
    "#### 1.  I) Check for duplicate columns & remove them"
   ]
  },
  {
   "cell_type": "markdown",
   "id": "eb7290a7",
   "metadata": {},
   "source": [
    "As per the understanding of the datasets, customer id acts as a primary key for all the three dataset. As i used merge function there is no duplicate values."
   ]
  },
  {
   "cell_type": "markdown",
   "id": "ea05f404",
   "metadata": {},
   "source": [
    "#### II) If you want you can drop column/columns (Mention the reason for the same for removing or not)"
   ]
  },
  {
   "cell_type": "markdown",
   "id": "c08ef734",
   "metadata": {},
   "source": [
    "When we use concat method we will encounter with a duplicate columns as customer id, so we can drop the duplicate customer id colums. As i have perfomed merge function it will helps to maps the columns according to customer ID"
   ]
  },
  {
   "cell_type": "code",
   "execution_count": 10,
   "id": "f6f3aabd",
   "metadata": {},
   "outputs": [],
   "source": [
    "df.loc[1563, 'Debt_to_Income_ratio']= '9.09'"
   ]
  },
  {
   "cell_type": "code",
   "execution_count": 11,
   "id": "2534cf7b",
   "metadata": {},
   "outputs": [],
   "source": [
    "df['Debt_to_Income_ratio'] = pd.to_numeric(df['Debt_to_Income_ratio'], errors='coerce')"
   ]
  },
  {
   "cell_type": "markdown",
   "id": "525280b6",
   "metadata": {},
   "source": [
    "#### 3. Clean the data (string cleaning)"
   ]
  },
  {
   "cell_type": "code",
   "execution_count": 13,
   "id": "a7eee7ce",
   "metadata": {},
   "outputs": [
    {
     "data": {
      "text/plain": [
       "cust.ID                               float64\n",
       "Debt_to_Income_ratio                  float64\n",
       "Age_band                              float64\n",
       "Amount.Requested for loan              object\n",
       "Amount.Funded.By.Investors to bank     object\n",
       "Interest.Rate                          object\n",
       "Loan duration                          object\n",
       "Family_incomeIncome                    object\n",
       "credit_score                           object\n",
       "Employment.Length                      object\n",
       "owning a two wheeler                   object\n",
       "dtype: object"
      ]
     },
     "execution_count": 13,
     "metadata": {},
     "output_type": "execute_result"
    }
   ],
   "source": [
    "df.dtypes"
   ]
  },
  {
   "cell_type": "code",
   "execution_count": 59,
   "id": "93eb2249",
   "metadata": {},
   "outputs": [
    {
     "data": {
      "text/plain": [
       "0        7\n",
       "12.54    6\n",
       "15.88    5\n",
       "16.15    5\n",
       "14.11    4\n",
       "        ..\n",
       "18.89    1\n",
       "9.95     1\n",
       "1.49     1\n",
       "30.24    1\n",
       "6.37     1\n",
       "Name: Debt_to_Income_ratio, Length: 1521, dtype: int64"
      ]
     },
     "execution_count": 59,
     "metadata": {},
     "output_type": "execute_result"
    }
   ],
   "source": [
    "df['Debt_to_Income_ratio'].value_counts()"
   ]
  },
  {
   "cell_type": "code",
   "execution_count": 18,
   "id": "0dd71340",
   "metadata": {},
   "outputs": [],
   "source": [
    "New_df['Interest.Rate'] =New_df['Interest.Rate'].str.replace('#', '')\n",
    "New_df['Interest.Rate'] = New_df['Interest.Rate'].astype(float)\n",
    "\n",
    "New_df.loc[121, 'Family_incomeIncome'] = '6250'\n",
    "New_df.loc[479, 'Family_incomeIncome'] = '8333.33'\n",
    "New_df.loc[492, 'Family_incomeIncome'] = '7083.33'\n",
    "New_df.loc[639, 'Family_incomeIncome'] = '4416.67'\n",
    "New_df.loc[783, 'Family_incomeIncome'] = '8333.33'\n",
    "New_df.loc[2146, 'Family_incomeIncome'] = '4000'\n",
    "New_df['Family_incomeIncome'].astype(float)\n",
    "\n",
    "\n",
    "New_df['Loan duration'] =New_df['Loan duration'].str.split().str[0]"
   ]
  },
  {
   "cell_type": "markdown",
   "id": "e4f9a1a8",
   "metadata": {},
   "source": [
    "#### 2. Using seaborn/matplotlib give any two visuals and mention the insights.\n"
   ]
  },
  {
   "cell_type": "code",
   "execution_count": 14,
   "id": "16d05251",
   "metadata": {},
   "outputs": [
    {
     "data": {
      "image/png": "[encoded data removed]",
      "text/plain": [
       "<Figure size 1000x500 with 2 Axes>"
      ]
     },
     "metadata": {},
     "output_type": "display_data"
    }
   ],
   "source": [
    "plt.figure(figsize=(10,5))\n",
    "\n",
    "plt.subplot(1,2,1)\n",
    "sns.kdeplot(df['Age_band'])\n",
    "\n",
    "plt.subplot(1,2,2)\n",
    "sns.histplot(New_df['Amount.Funded.By.Investors to bank'])\n",
    "\n",
    "plt.show()"
   ]
  },
  {
   "cell_type": "markdown",
   "id": "ae1b6429",
   "metadata": {},
   "source": [
    "#### Data Cleaning"
   ]
  },
  {
   "cell_type": "code",
   "execution_count": 4,
   "id": "28c3b6f1",
   "metadata": {},
   "outputs": [],
   "source": [
    "sheet3['cust.ID'] = sheet3['cust.ID'].str.replace('\"', '')\n",
    "sheet3['Debt_to_Income_Ratio'] = sheet3['Debt_to_Income_Ratio'].str.replace('\"', '').str.replace(',','').str.replace('!', '')\n",
    "sheet3[sheet3['cust.ID'] == \"NA\"]\n",
    "sheet3.loc[562, 'cust.ID'] = 0\n",
    "sheet1.loc[562, 'cust.ID'] = 0\n",
    "sheet2.loc[8, 'cust.ID'] = 88526.0\n",
    "sheet2.loc[562, 'cust.ID'] = 0"
   ]
  },
  {
   "cell_type": "markdown",
   "id": "98984a31",
   "metadata": {},
   "source": [
    "#### Changing the datatypes"
   ]
  },
  {
   "cell_type": "code",
   "execution_count": 5,
   "id": "92567e35",
   "metadata": {},
   "outputs": [
    {
     "data": {
      "text/plain": [
       "0        84563.0\n",
       "1        78765.0\n",
       "2        24590.0\n",
       "3         9061.0\n",
       "4        47011.0\n",
       "          ...   \n",
       "2181    101795.0\n",
       "2182     84805.0\n",
       "2183    101548.0\n",
       "2184      3209.0\n",
       "2185     42828.0\n",
       "Name: cust.ID, Length: 2186, dtype: float64"
      ]
     },
     "execution_count": 5,
     "metadata": {},
     "output_type": "execute_result"
    }
   ],
   "source": [
    "sheet1['cust.ID'].dtypes\n",
    "sheet2['cust.ID'].dtypes\n",
    "sheet3['cust.ID'].astype(float)"
   ]
  },
  {
   "cell_type": "markdown",
   "id": "39a403cb",
   "metadata": {},
   "source": [
    "#### Mergning and concating the dataframes"
   ]
  },
  {
   "cell_type": "code",
   "execution_count": 6,
   "id": "c96dd12e",
   "metadata": {},
   "outputs": [],
   "source": [
    "car = pd.merge(sheet1, sheet2, on='cust.ID')"
   ]
  },
  {
   "cell_type": "code",
   "execution_count": 7,
   "id": "14175604",
   "metadata": {},
   "outputs": [],
   "source": [
    "df = pd.concat([car, sheet3], axis=1)"
   ]
  },
  {
   "cell_type": "code",
   "execution_count": 8,
   "id": "61cc8e89",
   "metadata": {},
   "outputs": [
    {
     "name": "stdout",
     "output_type": "stream",
     "text": [
      "<class 'pandas.core.frame.DataFrame'>\n",
      "Int64Index: 2186 entries, 0 to 2185\n",
      "Data columns (total 12 columns):\n",
      " #   Column                              Non-Null Count  Dtype  \n",
      "---  ------                              --------------  -----  \n",
      " 0   cust.ID                             2186 non-null   float64\n",
      " 1   Amount.Requested for loan           2185 non-null   object \n",
      " 2   Amount.Funded.By.Investors to bank  2185 non-null   object \n",
      " 3   Interest.Rate                       2186 non-null   object \n",
      " 4   Loan duration                       2185 non-null   object \n",
      " 5   Family_incomeIncome                 2183 non-null   object \n",
      " 6   credit_score                        2186 non-null   object \n",
      " 7   Employment.Length                   2119 non-null   object \n",
      " 8   owning a two wheeler                2185 non-null   object \n",
      " 9   cust.ID                             2186 non-null   object \n",
      " 10  Age_band                            2183 non-null   object \n",
      " 11  Debt_to_Income_Ratio                2186 non-null   object \n",
      "dtypes: float64(1), object(11)\n",
      "memory usage: 222.0+ KB\n"
     ]
    }
   ],
   "source": [
    "df.info()"
   ]
  },
  {
   "cell_type": "code",
   "execution_count": 9,
   "id": "7f9ca0d5",
   "metadata": {},
   "outputs": [
    {
     "data": {
      "text/plain": [
       "cust.ID                               float64\n",
       "Amount.Requested for loan              object\n",
       "Amount.Funded.By.Investors to bank     object\n",
       "Interest.Rate                          object\n",
       "Loan duration                          object\n",
       "Family_incomeIncome                    object\n",
       "credit_score                           object\n",
       "Employment.Length                      object\n",
       "owning a two wheeler                   object\n",
       "cust.ID                                object\n",
       "Age_band                               object\n",
       "Debt_to_Income_Ratio                   object\n",
       "dtype: object"
      ]
     },
     "execution_count": 9,
     "metadata": {},
     "output_type": "execute_result"
    }
   ],
   "source": [
    "df.dtypes"
   ]
  },
  {
   "cell_type": "markdown",
   "id": "cc1c8687",
   "metadata": {},
   "source": [
    "#### Missing Values Imputation"
   ]
  },
  {
   "cell_type": "code",
   "execution_count": null,
   "id": "20dc28eb",
   "metadata": {},
   "outputs": [],
   "source": [
    "df['Amount.Requested for loan'].astype(int)"
   ]
  },
  {
   "cell_type": "code",
   "execution_count": null,
   "id": "c4bd5069",
   "metadata": {},
   "outputs": [],
   "source": [
    "df.loc[1667, 'Amount.Requested for loan'] = np.median(df['Amount.Requested for loan'])\n",
    "df.loc[362, 'Amount.Requested for loan'] = np.median(df['Amount.Requested for loan'])\n",
    "df.loc[1348, 'Amount.Requested for loan'] = np.median(df['Amount.Requested for loan'])\n",
    "df.loc[1782, 'Amount.Requested for loan'] = np.median(df['Amount.Requested for loan'])\n",
    "df.loc[1982, 'Amount.Requested for loan'] = np.median(df['Amount.Requested for loan'])"
   ]
  },
  {
   "cell_type": "markdown",
   "id": "93d18179",
   "metadata": {},
   "source": [
    "#### Identifying the ouliers in Amount Requested for Loan column"
   ]
  },
  {
   "cell_type": "code",
   "execution_count": null,
   "id": "b26d3a5a",
   "metadata": {},
   "outputs": [],
   "source": [
    "New = df['Amount.Requested for loan'].sort_values()"
   ]
  },
  {
   "cell_type": "code",
   "execution_count": null,
   "id": "49b27dad",
   "metadata": {},
   "outputs": [],
   "source": [
    "q1 = np.quantile(New, 0.25)"
   ]
  },
  {
   "cell_type": "code",
   "execution_count": null,
   "id": "eade6f15",
   "metadata": {},
   "outputs": [],
   "source": [
    "q3 = np.quantile(New, 0.75)"
   ]
  },
  {
   "cell_type": "code",
   "execution_count": null,
   "id": "9b7abfcc",
   "metadata": {},
   "outputs": [],
   "source": [
    "IQR = q3 - q1"
   ]
  },
  {
   "cell_type": "code",
   "execution_count": null,
   "id": "ea841a9e",
   "metadata": {},
   "outputs": [],
   "source": [
    "lower = q1-1.5*(IQR)\n",
    "upper = q3+1.5*(IQR)\n",
    "print(lower, upper)"
   ]
  },
  {
   "cell_type": "code",
   "execution_count": null,
   "id": "5d65293f",
   "metadata": {},
   "outputs": [],
   "source": [
    "New_df =df[(df['Amount.Requested for loan'] > lower) & (df['Amount.Requested for loan'] < upper)]\n",
    "New_df"
   ]
  },
  {
   "cell_type": "markdown",
   "id": "02dee530",
   "metadata": {},
   "source": [
    "In all three dataframes, we can notice that customer ID is common columns. so repeated columns can be removed."
   ]
  },
  {
   "cell_type": "markdown",
   "id": "d4347abc",
   "metadata": {},
   "source": [
    "#### Modification"
   ]
  },
  {
   "cell_type": "code",
   "execution_count": 12,
   "id": "24a6a64c",
   "metadata": {},
   "outputs": [
    {
     "data": {
      "text/plain": [
       "Index(['cust.ID', 'Amount.Requested for loan',\n",
       "       'Amount.Funded.By.Investors to bank', 'Interest.Rate', 'Loan duration',\n",
       "       'Family_incomeIncome', 'credit_score', 'Employment.Length',\n",
       "       'owning a two wheeler', 'Age_band', 'Debt_to_Income_Ratio'],\n",
       "      dtype='object')"
      ]
     },
     "execution_count": 12,
     "metadata": {},
     "output_type": "execute_result"
    }
   ],
   "source": [
    "New_df.columns"
   ]
  },
  {
   "cell_type": "code",
   "execution_count": 13,
   "id": "e29c075b",
   "metadata": {},
   "outputs": [],
   "source": [
    "New_df['Amount.Requested for loan'] = pd.to_numeric(New_df['Amount.Requested for loan'], errors='coerce')\n",
    "New_df['Amount.Funded.By.Investors to bank'] = pd.to_numeric(New_df['Amount.Funded.By.Investors to bank'], errors='coerce')\n",
    "New_df['Debt_to_Income_Ratio'] = pd.to_numeric(New_df['Debt_to_Income_Ratio'], errors='coerce')"
   ]
  },
  {
   "cell_type": "markdown",
   "id": "7a4e950f",
   "metadata": {},
   "source": [
    "#### Insights"
   ]
  },
  {
   "cell_type": "markdown",
   "id": "ce4bcac6",
   "metadata": {},
   "source": [
    "* By the Kde plot we can observe that the amount requested for loan column is positively skewed.\n",
    "* So the relationship of mean, median, mode will be mean>median>mode\n",
    "\n",
    "* By the Histogram plot we can observe the data distribution, which mode like a postively skewed.\n",
    "* We can also observe that most data points are ranging from 5000 to 10000"
   ]
  },
  {
   "cell_type": "code",
   "execution_count": 22,
   "id": "7f15d616",
   "metadata": {},
   "outputs": [
    {
     "data": {
      "text/html": [
       "<div>\n",
       "<style scoped>\n",
       "    .dataframe tbody tr th:only-of-type {\n",
       "        vertical-align: middle;\n",
       "    }\n",
       "\n",
       "    .dataframe tbody tr th {\n",
       "        vertical-align: top;\n",
       "    }\n",
       "\n",
       "    .dataframe thead th {\n",
       "        text-align: right;\n",
       "    }\n",
       "</style>\n",
       "<table border=\"1\" class=\"dataframe\">\n",
       "  <thead>\n",
       "    <tr style=\"text-align: right;\">\n",
       "      <th></th>\n",
       "      <th>cust.ID</th>\n",
       "      <th>Amount.Requested for loan</th>\n",
       "      <th>Amount.Funded.By.Investors to bank</th>\n",
       "      <th>Interest.Rate</th>\n",
       "      <th>Loan duration</th>\n",
       "      <th>Family_incomeIncome</th>\n",
       "      <th>credit_score</th>\n",
       "      <th>Employment.Length</th>\n",
       "      <th>owning a two wheeler</th>\n",
       "      <th>Age_band</th>\n",
       "      <th>Debt_to_Income_Ratio</th>\n",
       "    </tr>\n",
       "  </thead>\n",
       "  <tbody>\n",
       "    <tr>\n",
       "      <th>0</th>\n",
       "      <td>84563.0</td>\n",
       "      <td>8000.0</td>\n",
       "      <td>8000.0</td>\n",
       "      <td>7.62</td>\n",
       "      <td>36 months</td>\n",
       "      <td>3500</td>\n",
       "      <td>765-769</td>\n",
       "      <td>NaN</td>\n",
       "      <td>yes</td>\n",
       "      <td>25-39</td>\n",
       "      <td>0.00</td>\n",
       "    </tr>\n",
       "    <tr>\n",
       "      <th>1</th>\n",
       "      <td>78765.0</td>\n",
       "      <td>9000.0</td>\n",
       "      <td>9000.0</td>\n",
       "      <td>10.16</td>\n",
       "      <td>36 months</td>\n",
       "      <td>5166.67</td>\n",
       "      <td>710-714</td>\n",
       "      <td>10 + years</td>\n",
       "      <td>no</td>\n",
       "      <td>25-40</td>\n",
       "      <td>13.76</td>\n",
       "    </tr>\n",
       "    <tr>\n",
       "      <th>2</th>\n",
       "      <td>24590.0</td>\n",
       "      <td>13000.0</td>\n",
       "      <td>12975.0</td>\n",
       "      <td>9.99</td>\n",
       "      <td>60 months</td>\n",
       "      <td>10500</td>\n",
       "      <td>800-804</td>\n",
       "      <td>10+ years</td>\n",
       "      <td>yes</td>\n",
       "      <td>25-41</td>\n",
       "      <td>8.77</td>\n",
       "    </tr>\n",
       "    <tr>\n",
       "      <th>3</th>\n",
       "      <td>9061.0</td>\n",
       "      <td>10000.0</td>\n",
       "      <td>10000.0</td>\n",
       "      <td>14.22</td>\n",
       "      <td>36 months</td>\n",
       "      <td>2541.67</td>\n",
       "      <td>680-684</td>\n",
       "      <td>8 years</td>\n",
       "      <td>no</td>\n",
       "      <td>25-42</td>\n",
       "      <td>12.24</td>\n",
       "    </tr>\n",
       "    <tr>\n",
       "      <th>4</th>\n",
       "      <td>47011.0</td>\n",
       "      <td>3600.0</td>\n",
       "      <td>3600.0</td>\n",
       "      <td>13.67</td>\n",
       "      <td>36 months</td>\n",
       "      <td>5113</td>\n",
       "      <td>690-694</td>\n",
       "      <td>NaN</td>\n",
       "      <td>yes</td>\n",
       "      <td>25-43</td>\n",
       "      <td>16.41</td>\n",
       "    </tr>\n",
       "    <tr>\n",
       "      <th>...</th>\n",
       "      <td>...</td>\n",
       "      <td>...</td>\n",
       "      <td>...</td>\n",
       "      <td>...</td>\n",
       "      <td>...</td>\n",
       "      <td>...</td>\n",
       "      <td>...</td>\n",
       "      <td>...</td>\n",
       "      <td>...</td>\n",
       "      <td>...</td>\n",
       "      <td>...</td>\n",
       "    </tr>\n",
       "    <tr>\n",
       "      <th>2181</th>\n",
       "      <td>101795.0</td>\n",
       "      <td>10000.0</td>\n",
       "      <td>550.0</td>\n",
       "      <td>10.59</td>\n",
       "      <td>36 months</td>\n",
       "      <td>2083.33</td>\n",
       "      <td>685-689</td>\n",
       "      <td>&lt; 1 year</td>\n",
       "      <td>no</td>\n",
       "      <td>45-55</td>\n",
       "      <td>10.22</td>\n",
       "    </tr>\n",
       "    <tr>\n",
       "      <th>2182</th>\n",
       "      <td>84805.0</td>\n",
       "      <td>13225.0</td>\n",
       "      <td>13225.0</td>\n",
       "      <td>15.31</td>\n",
       "      <td>36 months</td>\n",
       "      <td>5833.33</td>\n",
       "      <td>680-684</td>\n",
       "      <td>10+ years</td>\n",
       "      <td>yes</td>\n",
       "      <td>45-55</td>\n",
       "      <td>27.07</td>\n",
       "    </tr>\n",
       "    <tr>\n",
       "      <th>2183</th>\n",
       "      <td>101548.0</td>\n",
       "      <td>10000.0</td>\n",
       "      <td>525.0</td>\n",
       "      <td>14.70</td>\n",
       "      <td>36 months</td>\n",
       "      <td>5416.67</td>\n",
       "      <td>645-649</td>\n",
       "      <td>&lt; 1 year</td>\n",
       "      <td>no</td>\n",
       "      <td>45-55</td>\n",
       "      <td>6.37</td>\n",
       "    </tr>\n",
       "    <tr>\n",
       "      <th>2184</th>\n",
       "      <td>3209.0</td>\n",
       "      <td>12000.0</td>\n",
       "      <td>11725.0</td>\n",
       "      <td>9.63</td>\n",
       "      <td>36 months</td>\n",
       "      <td>3000</td>\n",
       "      <td>750-754</td>\n",
       "      <td>&lt; 1 year</td>\n",
       "      <td>yes</td>\n",
       "      <td>45-55</td>\n",
       "      <td>15.00</td>\n",
       "    </tr>\n",
       "    <tr>\n",
       "      <th>2185</th>\n",
       "      <td>42828.0</td>\n",
       "      <td>16000.0</td>\n",
       "      <td>16000.0</td>\n",
       "      <td>8.90</td>\n",
       "      <td>36 months</td>\n",
       "      <td>5750</td>\n",
       "      <td>725-729</td>\n",
       "      <td>6 years</td>\n",
       "      <td>no</td>\n",
       "      <td>45-55</td>\n",
       "      <td>14.85</td>\n",
       "    </tr>\n",
       "  </tbody>\n",
       "</table>\n",
       "<p>2186 rows × 11 columns</p>\n",
       "</div>"
      ],
      "text/plain": [
       "       cust.ID  Amount.Requested for loan  Amount.Funded.By.Investors to bank  \\\n",
       "0      84563.0                     8000.0                              8000.0   \n",
       "1      78765.0                     9000.0                              9000.0   \n",
       "2      24590.0                    13000.0                             12975.0   \n",
       "3       9061.0                    10000.0                             10000.0   \n",
       "4      47011.0                     3600.0                              3600.0   \n",
       "...        ...                        ...                                 ...   \n",
       "2181  101795.0                    10000.0                               550.0   \n",
       "2182   84805.0                    13225.0                             13225.0   \n",
       "2183  101548.0                    10000.0                               525.0   \n",
       "2184    3209.0                    12000.0                             11725.0   \n",
       "2185   42828.0                    16000.0                             16000.0   \n",
       "\n",
       "      Interest.Rate Loan duration Family_incomeIncome credit_score  \\\n",
       "0              7.62     36 months                3500      765-769   \n",
       "1             10.16     36 months             5166.67      710-714   \n",
       "2              9.99     60 months               10500      800-804   \n",
       "3             14.22     36 months             2541.67      680-684   \n",
       "4             13.67     36 months                5113      690-694   \n",
       "...             ...           ...                 ...          ...   \n",
       "2181          10.59     36 months             2083.33      685-689   \n",
       "2182          15.31     36 months             5833.33      680-684   \n",
       "2183          14.70     36 months             5416.67      645-649   \n",
       "2184           9.63     36 months                3000      750-754   \n",
       "2185           8.90     36 months                5750      725-729   \n",
       "\n",
       "     Employment.Length owning a two wheeler Age_band  Debt_to_Income_Ratio  \n",
       "0                  NaN                 yes     25-39                  0.00  \n",
       "1           10 + years                   no    25-40                 13.76  \n",
       "2            10+ years                 yes     25-41                  8.77  \n",
       "3              8 years                   no    25-42                 12.24  \n",
       "4                  NaN                 yes     25-43                 16.41  \n",
       "...                ...                  ...      ...                   ...  \n",
       "2181          < 1 year                   no    45-55                 10.22  \n",
       "2182         10+ years                 yes     45-55                 27.07  \n",
       "2183          < 1 year                   no    45-55                  6.37  \n",
       "2184          < 1 year                 yes     45-55                 15.00  \n",
       "2185           6 years                   no    45-55                 14.85  \n",
       "\n",
       "[2186 rows x 11 columns]"
      ]
     },
     "execution_count": 22,
     "metadata": {},
     "output_type": "execute_result"
    }
   ],
   "source": [
    "New_df"
   ]
  },
  {
   "cell_type": "code",
   "execution_count": 59,
   "id": "e0c0acc4",
   "metadata": {},
   "outputs": [],
   "source": [
    "r1=New_df['credit_score'].str.split('-').str[0] "
   ]
  },
  {
   "cell_type": "code",
   "execution_count": 60,
   "id": "7957c573",
   "metadata": {},
   "outputs": [],
   "source": [
    "r2 = New_df['credit_score'].str.split('-').str[1]"
   ]
  },
  {
   "cell_type": "code",
   "execution_count": 62,
   "id": "53cb151a",
   "metadata": {},
   "outputs": [
    {
     "ename": "ValueError",
     "evalue": "could not convert string to float: '729 !'",
     "output_type": "error",
     "traceback": [
      "\u001b[1;31m---------------------------------------------------------------------------\u001b[0m",
      "\u001b[1;31mValueError\u001b[0m                                Traceback (most recent call last)",
      "Cell \u001b[1;32mIn[62], line 2\u001b[0m\n\u001b[0;32m      1\u001b[0m r1\u001b[38;5;241m.\u001b[39mastype(\u001b[38;5;28mfloat\u001b[39m)\n\u001b[1;32m----> 2\u001b[0m \u001b[43mr2\u001b[49m\u001b[38;5;241;43m.\u001b[39;49m\u001b[43mastype\u001b[49m\u001b[43m(\u001b[49m\u001b[38;5;28;43mfloat\u001b[39;49m\u001b[43m)\u001b[49m\n",
      "File \u001b[1;32m~\\anaconda3\\lib\\site-packages\\pandas\\core\\generic.py:6240\u001b[0m, in \u001b[0;36mNDFrame.astype\u001b[1;34m(self, dtype, copy, errors)\u001b[0m\n\u001b[0;32m   6233\u001b[0m     results \u001b[38;5;241m=\u001b[39m [\n\u001b[0;32m   6234\u001b[0m         \u001b[38;5;28mself\u001b[39m\u001b[38;5;241m.\u001b[39miloc[:, i]\u001b[38;5;241m.\u001b[39mastype(dtype, copy\u001b[38;5;241m=\u001b[39mcopy)\n\u001b[0;32m   6235\u001b[0m         \u001b[38;5;28;01mfor\u001b[39;00m i \u001b[38;5;129;01min\u001b[39;00m \u001b[38;5;28mrange\u001b[39m(\u001b[38;5;28mlen\u001b[39m(\u001b[38;5;28mself\u001b[39m\u001b[38;5;241m.\u001b[39mcolumns))\n\u001b[0;32m   6236\u001b[0m     ]\n\u001b[0;32m   6238\u001b[0m \u001b[38;5;28;01melse\u001b[39;00m:\n\u001b[0;32m   6239\u001b[0m     \u001b[38;5;66;03m# else, only a single dtype is given\u001b[39;00m\n\u001b[1;32m-> 6240\u001b[0m     new_data \u001b[38;5;241m=\u001b[39m \u001b[38;5;28;43mself\u001b[39;49m\u001b[38;5;241;43m.\u001b[39;49m\u001b[43m_mgr\u001b[49m\u001b[38;5;241;43m.\u001b[39;49m\u001b[43mastype\u001b[49m\u001b[43m(\u001b[49m\u001b[43mdtype\u001b[49m\u001b[38;5;241;43m=\u001b[39;49m\u001b[43mdtype\u001b[49m\u001b[43m,\u001b[49m\u001b[43m \u001b[49m\u001b[43mcopy\u001b[49m\u001b[38;5;241;43m=\u001b[39;49m\u001b[43mcopy\u001b[49m\u001b[43m,\u001b[49m\u001b[43m \u001b[49m\u001b[43merrors\u001b[49m\u001b[38;5;241;43m=\u001b[39;49m\u001b[43merrors\u001b[49m\u001b[43m)\u001b[49m\n\u001b[0;32m   6241\u001b[0m     \u001b[38;5;28;01mreturn\u001b[39;00m \u001b[38;5;28mself\u001b[39m\u001b[38;5;241m.\u001b[39m_constructor(new_data)\u001b[38;5;241m.\u001b[39m__finalize__(\u001b[38;5;28mself\u001b[39m, method\u001b[38;5;241m=\u001b[39m\u001b[38;5;124m\"\u001b[39m\u001b[38;5;124mastype\u001b[39m\u001b[38;5;124m\"\u001b[39m)\n\u001b[0;32m   6243\u001b[0m \u001b[38;5;66;03m# GH 33113: handle empty frame or series\u001b[39;00m\n",
      "File \u001b[1;32m~\\anaconda3\\lib\\site-packages\\pandas\\core\\internals\\managers.py:448\u001b[0m, in \u001b[0;36mBaseBlockManager.astype\u001b[1;34m(self, dtype, copy, errors)\u001b[0m\n\u001b[0;32m    447\u001b[0m \u001b[38;5;28;01mdef\u001b[39;00m \u001b[38;5;21mastype\u001b[39m(\u001b[38;5;28mself\u001b[39m: T, dtype, copy: \u001b[38;5;28mbool\u001b[39m \u001b[38;5;241m=\u001b[39m \u001b[38;5;28;01mFalse\u001b[39;00m, errors: \u001b[38;5;28mstr\u001b[39m \u001b[38;5;241m=\u001b[39m \u001b[38;5;124m\"\u001b[39m\u001b[38;5;124mraise\u001b[39m\u001b[38;5;124m\"\u001b[39m) \u001b[38;5;241m-\u001b[39m\u001b[38;5;241m>\u001b[39m T:\n\u001b[1;32m--> 448\u001b[0m     \u001b[38;5;28;01mreturn\u001b[39;00m \u001b[38;5;28;43mself\u001b[39;49m\u001b[38;5;241;43m.\u001b[39;49m\u001b[43mapply\u001b[49m\u001b[43m(\u001b[49m\u001b[38;5;124;43m\"\u001b[39;49m\u001b[38;5;124;43mastype\u001b[39;49m\u001b[38;5;124;43m\"\u001b[39;49m\u001b[43m,\u001b[49m\u001b[43m \u001b[49m\u001b[43mdtype\u001b[49m\u001b[38;5;241;43m=\u001b[39;49m\u001b[43mdtype\u001b[49m\u001b[43m,\u001b[49m\u001b[43m \u001b[49m\u001b[43mcopy\u001b[49m\u001b[38;5;241;43m=\u001b[39;49m\u001b[43mcopy\u001b[49m\u001b[43m,\u001b[49m\u001b[43m \u001b[49m\u001b[43merrors\u001b[49m\u001b[38;5;241;43m=\u001b[39;49m\u001b[43merrors\u001b[49m\u001b[43m)\u001b[49m\n",
      "File \u001b[1;32m~\\anaconda3\\lib\\site-packages\\pandas\\core\\internals\\managers.py:352\u001b[0m, in \u001b[0;36mBaseBlockManager.apply\u001b[1;34m(self, f, align_keys, ignore_failures, **kwargs)\u001b[0m\n\u001b[0;32m    350\u001b[0m         applied \u001b[38;5;241m=\u001b[39m b\u001b[38;5;241m.\u001b[39mapply(f, \u001b[38;5;241m*\u001b[39m\u001b[38;5;241m*\u001b[39mkwargs)\n\u001b[0;32m    351\u001b[0m     \u001b[38;5;28;01melse\u001b[39;00m:\n\u001b[1;32m--> 352\u001b[0m         applied \u001b[38;5;241m=\u001b[39m \u001b[38;5;28mgetattr\u001b[39m(b, f)(\u001b[38;5;241m*\u001b[39m\u001b[38;5;241m*\u001b[39mkwargs)\n\u001b[0;32m    353\u001b[0m \u001b[38;5;28;01mexcept\u001b[39;00m (\u001b[38;5;167;01mTypeError\u001b[39;00m, \u001b[38;5;167;01mNotImplementedError\u001b[39;00m):\n\u001b[0;32m    354\u001b[0m     \u001b[38;5;28;01mif\u001b[39;00m \u001b[38;5;129;01mnot\u001b[39;00m ignore_failures:\n",
      "File \u001b[1;32m~\\anaconda3\\lib\\site-packages\\pandas\\core\\internals\\blocks.py:526\u001b[0m, in \u001b[0;36mBlock.astype\u001b[1;34m(self, dtype, copy, errors)\u001b[0m\n\u001b[0;32m    508\u001b[0m \u001b[38;5;124;03m\"\"\"\u001b[39;00m\n\u001b[0;32m    509\u001b[0m \u001b[38;5;124;03mCoerce to the new dtype.\u001b[39;00m\n\u001b[0;32m    510\u001b[0m \n\u001b[1;32m   (...)\u001b[0m\n\u001b[0;32m    522\u001b[0m \u001b[38;5;124;03mBlock\u001b[39;00m\n\u001b[0;32m    523\u001b[0m \u001b[38;5;124;03m\"\"\"\u001b[39;00m\n\u001b[0;32m    524\u001b[0m values \u001b[38;5;241m=\u001b[39m \u001b[38;5;28mself\u001b[39m\u001b[38;5;241m.\u001b[39mvalues\n\u001b[1;32m--> 526\u001b[0m new_values \u001b[38;5;241m=\u001b[39m \u001b[43mastype_array_safe\u001b[49m\u001b[43m(\u001b[49m\u001b[43mvalues\u001b[49m\u001b[43m,\u001b[49m\u001b[43m \u001b[49m\u001b[43mdtype\u001b[49m\u001b[43m,\u001b[49m\u001b[43m \u001b[49m\u001b[43mcopy\u001b[49m\u001b[38;5;241;43m=\u001b[39;49m\u001b[43mcopy\u001b[49m\u001b[43m,\u001b[49m\u001b[43m \u001b[49m\u001b[43merrors\u001b[49m\u001b[38;5;241;43m=\u001b[39;49m\u001b[43merrors\u001b[49m\u001b[43m)\u001b[49m\n\u001b[0;32m    528\u001b[0m new_values \u001b[38;5;241m=\u001b[39m maybe_coerce_values(new_values)\n\u001b[0;32m    529\u001b[0m newb \u001b[38;5;241m=\u001b[39m \u001b[38;5;28mself\u001b[39m\u001b[38;5;241m.\u001b[39mmake_block(new_values)\n",
      "File \u001b[1;32m~\\anaconda3\\lib\\site-packages\\pandas\\core\\dtypes\\astype.py:299\u001b[0m, in \u001b[0;36mastype_array_safe\u001b[1;34m(values, dtype, copy, errors)\u001b[0m\n\u001b[0;32m    296\u001b[0m     \u001b[38;5;28;01mreturn\u001b[39;00m values\u001b[38;5;241m.\u001b[39mcopy()\n\u001b[0;32m    298\u001b[0m \u001b[38;5;28;01mtry\u001b[39;00m:\n\u001b[1;32m--> 299\u001b[0m     new_values \u001b[38;5;241m=\u001b[39m \u001b[43mastype_array\u001b[49m\u001b[43m(\u001b[49m\u001b[43mvalues\u001b[49m\u001b[43m,\u001b[49m\u001b[43m \u001b[49m\u001b[43mdtype\u001b[49m\u001b[43m,\u001b[49m\u001b[43m \u001b[49m\u001b[43mcopy\u001b[49m\u001b[38;5;241;43m=\u001b[39;49m\u001b[43mcopy\u001b[49m\u001b[43m)\u001b[49m\n\u001b[0;32m    300\u001b[0m \u001b[38;5;28;01mexcept\u001b[39;00m (\u001b[38;5;167;01mValueError\u001b[39;00m, \u001b[38;5;167;01mTypeError\u001b[39;00m):\n\u001b[0;32m    301\u001b[0m     \u001b[38;5;66;03m# e.g. astype_nansafe can fail on object-dtype of strings\u001b[39;00m\n\u001b[0;32m    302\u001b[0m     \u001b[38;5;66;03m#  trying to convert to float\u001b[39;00m\n\u001b[0;32m    303\u001b[0m     \u001b[38;5;28;01mif\u001b[39;00m errors \u001b[38;5;241m==\u001b[39m \u001b[38;5;124m\"\u001b[39m\u001b[38;5;124mignore\u001b[39m\u001b[38;5;124m\"\u001b[39m:\n",
      "File \u001b[1;32m~\\anaconda3\\lib\\site-packages\\pandas\\core\\dtypes\\astype.py:230\u001b[0m, in \u001b[0;36mastype_array\u001b[1;34m(values, dtype, copy)\u001b[0m\n\u001b[0;32m    227\u001b[0m     values \u001b[38;5;241m=\u001b[39m values\u001b[38;5;241m.\u001b[39mastype(dtype, copy\u001b[38;5;241m=\u001b[39mcopy)\n\u001b[0;32m    229\u001b[0m \u001b[38;5;28;01melse\u001b[39;00m:\n\u001b[1;32m--> 230\u001b[0m     values \u001b[38;5;241m=\u001b[39m \u001b[43mastype_nansafe\u001b[49m\u001b[43m(\u001b[49m\u001b[43mvalues\u001b[49m\u001b[43m,\u001b[49m\u001b[43m \u001b[49m\u001b[43mdtype\u001b[49m\u001b[43m,\u001b[49m\u001b[43m \u001b[49m\u001b[43mcopy\u001b[49m\u001b[38;5;241;43m=\u001b[39;49m\u001b[43mcopy\u001b[49m\u001b[43m)\u001b[49m\n\u001b[0;32m    232\u001b[0m \u001b[38;5;66;03m# in pandas we don't store numpy str dtypes, so convert to object\u001b[39;00m\n\u001b[0;32m    233\u001b[0m \u001b[38;5;28;01mif\u001b[39;00m \u001b[38;5;28misinstance\u001b[39m(dtype, np\u001b[38;5;241m.\u001b[39mdtype) \u001b[38;5;129;01mand\u001b[39;00m \u001b[38;5;28missubclass\u001b[39m(values\u001b[38;5;241m.\u001b[39mdtype\u001b[38;5;241m.\u001b[39mtype, \u001b[38;5;28mstr\u001b[39m):\n",
      "File \u001b[1;32m~\\anaconda3\\lib\\site-packages\\pandas\\core\\dtypes\\astype.py:170\u001b[0m, in \u001b[0;36mastype_nansafe\u001b[1;34m(arr, dtype, copy, skipna)\u001b[0m\n\u001b[0;32m    166\u001b[0m     \u001b[38;5;28;01mraise\u001b[39;00m \u001b[38;5;167;01mValueError\u001b[39;00m(msg)\n\u001b[0;32m    168\u001b[0m \u001b[38;5;28;01mif\u001b[39;00m copy \u001b[38;5;129;01mor\u001b[39;00m is_object_dtype(arr\u001b[38;5;241m.\u001b[39mdtype) \u001b[38;5;129;01mor\u001b[39;00m is_object_dtype(dtype):\n\u001b[0;32m    169\u001b[0m     \u001b[38;5;66;03m# Explicit copy, or required since NumPy can't view from / to object.\u001b[39;00m\n\u001b[1;32m--> 170\u001b[0m     \u001b[38;5;28;01mreturn\u001b[39;00m \u001b[43marr\u001b[49m\u001b[38;5;241;43m.\u001b[39;49m\u001b[43mastype\u001b[49m\u001b[43m(\u001b[49m\u001b[43mdtype\u001b[49m\u001b[43m,\u001b[49m\u001b[43m \u001b[49m\u001b[43mcopy\u001b[49m\u001b[38;5;241;43m=\u001b[39;49m\u001b[38;5;28;43;01mTrue\u001b[39;49;00m\u001b[43m)\u001b[49m\n\u001b[0;32m    172\u001b[0m \u001b[38;5;28;01mreturn\u001b[39;00m arr\u001b[38;5;241m.\u001b[39mastype(dtype, copy\u001b[38;5;241m=\u001b[39mcopy)\n",
      "\u001b[1;31mValueError\u001b[0m: could not convert string to float: '729 !'"
     ]
    }
   ],
   "source": [
    "r1.astype(float)\n",
    "r2.astype(float)"
   ]
  },
  {
   "cell_type": "code",
   "execution_count": 20,
   "id": "5ac93891",
   "metadata": {},
   "outputs": [
    {
     "data": {
      "text/plain": [
       "5000.00    90\n",
       "4166.67    69\n",
       "3333.33    66\n",
       "5416.67    60\n",
       "5833.33    56\n",
       "           ..\n",
       "5150.00     1\n",
       "2458.33     1\n",
       "3145.83     1\n",
       "3108.33     1\n",
       "5316.67     1\n",
       "Name: Family_incomeIncome, Length: 583, dtype: int64"
      ]
     },
     "execution_count": 20,
     "metadata": {},
     "output_type": "execute_result"
    }
   ],
   "source": [
    "New_df['Family_incomeIncome'].value_counts()"
   ]
  },
  {
   "cell_type": "code",
   "execution_count": null,
   "id": "1ef07d39",
   "metadata": {},
   "outputs": [],
   "source": [
    "New_df['Interest.Rate'] = pd.to_numeric(New_df['Interest.Rate'], errors='coerce')\n",
    "New_df['Loan duration']= New_df['Loan duration'].str.split().str[0]\n",
    "New_df['Loan duration'] = pd.to_numeric(New_df['Loan duration'], errors='coerce')"
   ]
  },
  {
   "cell_type": "code",
   "execution_count": null,
   "id": "e45392f9",
   "metadata": {},
   "outputs": [],
   "source": []
  },
  {
   "cell_type": "code",
   "execution_count": null,
   "id": "9bb818b6",
   "metadata": {},
   "outputs": [],
   "source": [
    "\n",
    "4. Check for outliers present in the data, decide whether you want to remove them or \n",
    "not. Justify the same"
   ]
  },
  {
   "cell_type": "code",
   "execution_count": null,
   "id": "103fcc0d",
   "metadata": {},
   "outputs": [],
   "source": []
  },
  {
   "cell_type": "code",
   "execution_count": null,
   "id": "6afc3351",
   "metadata": {},
   "outputs": [],
   "source": []
  }
 ],
 "metadata": {
  "kernelspec": {
   "display_name": "Python 3 (ipykernel)",
   "language": "python",
   "name": "python3"
  },
  "language_info": {
   "codemirror_mode": {
    "name": "ipython",
    "version": 3
   },
   "file_extension": ".py",
   "mimetype": "text/x-python",
   "name": "python",
   "nbconvert_exporter": "python",
   "pygments_lexer": "ipython3",
   "version": "3.9.13"
  }
 },
 "nbformat": 4,
 "nbformat_minor": 5
}
